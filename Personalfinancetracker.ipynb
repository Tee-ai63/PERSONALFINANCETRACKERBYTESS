{
 "cells": [
  {
   "cell_type": "markdown",
   "id": "17a9ca90",
   "metadata": {},
   "source": [
    "Below is a Personal Finance Tracker project.The user will record their expenses and income and will bes tored in a CSV file and generate summarises of their total income total expenses and balance.The program will also allow users to view reportssuch as monthly expenses by category."
   ]
  },
  {
   "cell_type": "code",
   "execution_count": 167,
   "id": "1108b33a",
   "metadata": {},
   "outputs": [],
   "source": [
    "import streamlit as st\n",
    "import csv\n",
    "from datetime import datetime\n",
    "\n",
    "#creating the file finance data csv\n",
    "\n",
    "FILE_NAME = \"finance_data.csv\"\n",
    "\n",
    "def init_file():\n",
    "    try:\n",
    "        with open(FILE_NAME, \"x\", newline=\"\") as file:\n",
    "            writer = csv.writer(file)\n",
    "            writer.writerow([\"Date\", \"Type\", \"Category/Source\", \"Amount\"])\n",
    "    except FileExistsError:\n",
    "        pass  # File already exists, do nothing\n",
    "# Call the function to actually create the file\n",
    "init_file()"
   ]
  },
  {
   "cell_type": "code",
   "execution_count": 168,
   "id": "d7ae4b22",
   "metadata": {},
   "outputs": [
    {
     "name": "stdout",
     "output_type": "stream",
     "text": [
      "Figures recorded!\n"
     ]
    }
   ],
   "source": [
    "# Add a new record\n",
    "def add_record(record_type, category, amount):\n",
    "    date = datetime.now().strftime(\"%Y-%m-%d\")\n",
    "    with open(\"finance_data.csv\", \"a\", newline=\"\") as file:\n",
    "        writer = csv.writer(file)\n",
    "        writer.writerow([date, record_type, category, amount])\n",
    "   \n",
    "print(\"Figures recorded!\")\n",
    "\n",
    "#This function takes three things ie (record_type, category, amount), adds today’s date automatically, and saves them as a new row in my finance data CSV file."
   ]
  },
  {
   "cell_type": "code",
   "execution_count": 169,
   "id": "5667cb72",
   "metadata": {},
   "outputs": [],
   "source": [
    "#add_record(\"Income\",\"Techwriting\",120000)\n",
    "#add_record(\"Income\",\"Salary\",115000)\n",
    "#add_record(\"Expense\",\"Rent\",40000)\n",
    "#add_record(\"Expense\",\"Food and entertainment\",45000)\n",
    "#add_record(\"Expense\",\"transport\",25000)\n",
    "#add_record(\"Expense\",\"MMFacc\",20000)\n",
    "\n"
   ]
  },
  {
   "cell_type": "code",
   "execution_count": 170,
   "id": "b0537fb8",
   "metadata": {},
   "outputs": [],
   "source": [
    "# Summary \n",
    "def show_summary():\n",
    "    \"\"\"Show total income, total expenses, and balance.\"\"\"\n",
    "    total_income, total_expense = 0, 0\n",
    "    with open(\"finance_data.csv\", \"r\") as file:\n",
    "        reader = csv.reader(file)\n",
    "        next(reader)  # skip header\n",
    "        for row in reader:\n",
    "            if not row: \n",
    "                continue\n",
    "            if row[1] == \"Income\":\n",
    "                total_income += float(row[3])\n",
    "            elif row[1] == \"Expense\":\n",
    "                total_expense += float(row[3])\n",
    "\n",
    "    balance = total_income - total_expense\n",
    "    print(\"\\n--- Summary ---\")\n",
    "    print(f\"Total Income:  {total_income}\")\n",
    "    print(f\"Total Expense: {total_expense}\")\n",
    "    print(f\"Balance:       {balance}\")\n",
    "\n",
    "    return total_income,total_expense,balance"
   ]
  },
  {
   "cell_type": "code",
   "execution_count": 171,
   "id": "78f359b0",
   "metadata": {},
   "outputs": [
    {
     "name": "stdout",
     "output_type": "stream",
     "text": [
      "\n",
      "--- Summary ---\n",
      "Total Income:  235000.0\n",
      "Total Expense: 130000.0\n",
      "Balance:       105000.0\n",
      "Summary saved as summary.txt\n"
     ]
    }
   ],
   "source": [
    "total_income,total_expense,balance=show_summary()\n",
    "save_summary_txt(total_income,total_expense,balance)"
   ]
  },
  {
   "cell_type": "code",
   "execution_count": 172,
   "id": "b141fab1",
   "metadata": {},
   "outputs": [],
   "source": [
    "##Create a pie chart to visually summarize the above"
   ]
  },
  {
   "cell_type": "code",
   "execution_count": 173,
   "id": "085a6e4f",
   "metadata": {},
   "outputs": [],
   "source": [
    "import matplotlib.pyplot as plt\n",
    "\n",
    "def create_pie_chart(total_income, total_expense):\n",
    "    values = [total_income, total_expense]\n",
    "    labels = [\"Income\", \"Expenses\"]\n",
    "\n",
    "    plt.pie(values, labels=labels, autopct=\"%1.1f%%\")\n",
    "    plt.title(\"Income vs Expenses\")\n",
    "\n",
    "    plt.savefig(\"finance_pie_chart.png\")  # save first\n",
    "    plt.show()  # then display\n",
    "    plt.close()\n",
    "    print(\"Pie chart saved as finance_pie_chart.png\")\n",
    "\n"
   ]
  },
  {
   "cell_type": "code",
   "execution_count": 174,
   "id": "eeab492f",
   "metadata": {},
   "outputs": [
    {
     "data": {
      "image/png": "[encoded data removed]",
      "text/plain": [
       "<Figure size 640x480 with 1 Axes>"
      ]
     },
     "metadata": {},
     "output_type": "display_data"
    },
    {
     "name": "stdout",
     "output_type": "stream",
     "text": [
      "Pie chart saved as finance_pie_chart.png\n"
     ]
    }
   ],
   "source": [
    "create_pie_chart(235000, 130000)"
   ]
  }
 ],
 "metadata": {
  "kernelspec": {
   "display_name": "venv",
   "language": "python",
   "name": "python3"
  },
  "language_info": {
   "codemirror_mode": {
    "name": "ipython",
    "version": 3
   },
   "file_extension": ".py",
   "mimetype": "text/x-python",
   "name": "python",
   "nbconvert_exporter": "python",
   "pygments_lexer": "ipython3",
   "version": "3.13.7"
  }
 },
 "nbformat": 4,
 "nbformat_minor": 5
}
